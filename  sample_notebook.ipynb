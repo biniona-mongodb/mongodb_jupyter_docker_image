{
 "cells": [
  {
   "cell_type": "code",
   "execution_count": null,
   "id": "5ab00830-49d7-44be-87e0-a123786f8db2",
   "metadata": {},
   "outputs": [],
   "source": [
    "import atlas_jupyter as a\n",
    "a.set_col(\"test\")\n",
    "a.col.find_one()"
   ]
  }
 ],
 "metadata": {
  "kernelspec": {
   "display_name": "Python 3",
   "language": "python",
   "name": "python3"
  },
  "language_info": {
   "codemirror_mode": {
    "name": "ipython",
    "version": 3
   },
   "file_extension": ".py",
   "mimetype": "text/x-python",
   "name": "python",
   "nbconvert_exporter": "python",
   "pygments_lexer": "ipython3",
   "version": "3.8.9"
  }
 },
 "nbformat": 4,
 "nbformat_minor": 5
}

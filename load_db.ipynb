{
 "cells": [
  {
   "cell_type": "code",
   "execution_count": null,
   "id": "873f8749-ecb0-43d6-839c-426d45477c0f",
   "metadata": {},
   "outputs": [],
   "source": [
    "import os\n",
    "import pymongo\n",
    "client = pymongo.MongoClient(os.getenv(\"CONNECTION_URI\"))\n",
    "db_str = os.getenv(\"DATABASE\")\n",
    "col_str = os.getenv(\"COLLECTION\")\n",
    "db = None\n",
    "collection = None\n",
    "if db_str and col_str:\n",
    "    db = client[db_str]\n",
    "    collection = db[col_str]\n",
    "    print(\"A record:\", collection.find_one())\n",
    "else:\n",
    "    print(\"please specify a database and or collection\")"
   ]
  }
 ],
 "metadata": {
  "kernelspec": {
   "display_name": "Python 3",
   "language": "python",
   "name": "python3"
  },
  "language_info": {
   "codemirror_mode": {
    "name": "ipython",
    "version": 3
   },
   "file_extension": ".py",
   "mimetype": "text/x-python",
   "name": "python",
   "nbconvert_exporter": "python",
   "pygments_lexer": "ipython3",
   "version": "3.8.9"
  }
 },
 "nbformat": 4,
 "nbformat_minor": 5
}
